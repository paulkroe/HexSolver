{
 "cells": [
  {
   "cell_type": "code",
   "execution_count": 1,
   "metadata": {},
   "outputs": [],
   "source": [
    "import importlib\n",
    "import random\n",
    "import Game.Hex as hex\n",
    "importlib.reload(hex)\n",
    "import Data.preprocess_data as preprocess_data\n",
    "importlib.reload(preprocess_data)\n",
    "import Agent.Networks.CNN as cnn\n",
    "importlib.reload(cnn)\n",
    "import Agent.MCTS as mcts\n",
    "importlib.reload(mcts)\n",
    "import tests.RandomModel as random_model\n",
    "importlib.reload(random_model)\n",
    "\n",
    "import torch\n",
    "import torch.nn as nn\n",
    "import torch.functional as F"
   ]
  },
  {
   "cell_type": "code",
   "execution_count": 2,
   "metadata": {},
   "outputs": [
    {
     "name": "stdout",
     "output_type": "stream",
     "text": [
      "[104, 133, 134, 129]\n",
      "[120, 127, 139, 114]\n"
     ]
    }
   ],
   "source": [
    "import importlib\n",
    "import random\n",
    "import Game.Hex as hex\n",
    "importlib.reload(hex)\n",
    "import Data.preprocess_data as preprocess_data\n",
    "importlib.reload(preprocess_data)\n",
    "import Agent.Networks.CNN as cnn\n",
    "importlib.reload(cnn)\n",
    "import Agent.MCTS as mcts\n",
    "importlib.reload(mcts)\n",
    "import tests.RandomModel as random_model\n",
    "importlib.reload(random_model)\n",
    "\n",
    "import torch\n",
    "import torch.nn as nn\n",
    "xs = [0 for i in range(hex.SIZE)]\n",
    "ys = [0 for i in range(hex.SIZE)]\n",
    "\n",
    "for _ in range(500):\n",
    "    game = hex.HexGame()\n",
    "            \n",
    "    model = random_model.RandModel()\n",
    "    tree = mcts.MCTS(game, model)\n",
    "    (x, y) = tree.run(10)\n",
    "    xs[x] += 1\n",
    "    ys[y] += 1\n",
    "print(xs)\n",
    "print(ys)"
   ]
  },
  {
   "cell_type": "code",
   "execution_count": 38,
   "metadata": {},
   "outputs": [
    {
     "name": "stdout",
     "output_type": "stream",
     "text": [
      ". x o . \n",
      " . x o . \n",
      "  . x o . \n",
      "   . . . . \n",
      "\n",
      "3 1\n",
      ". x o . \n",
      " . x o . \n",
      "  . x o . \n",
      "   . x . . \n",
      "\n",
      "(0, [(0, 1), (1, 1), (2, 1), (3, 1)])\n"
     ]
    }
   ],
   "source": [
    "import importlib\n",
    "import random\n",
    "import Game.Hex as hex\n",
    "importlib.reload(hex)\n",
    "import Data.preprocess_data as preprocess_data\n",
    "importlib.reload(preprocess_data)\n",
    "import Agent.Networks.CNN as cnn\n",
    "importlib.reload(cnn)\n",
    "import Agent.MCTS as mcts\n",
    "importlib.reload(mcts)\n",
    "import tests.RandomModel as random_model\n",
    "importlib.reload(random_model)\n",
    "import torch\n",
    "import torch.nn as nn\n",
    "\n",
    "game = hex.HexGame()\n",
    "\n",
    "for i in range(0, hex.SIZE-1):\n",
    "    for j in range(1, 3):\n",
    "        game.place_piece(i, j)   \n",
    "        game.take_turn()    \n",
    "\n",
    "print(game) \n",
    "model = random_model.RandModel()\n",
    "tree = mcts.MCTS(game, model)\n",
    "\n",
    "(x, y) = tree.run(100)\n",
    "print(x, y)\n",
    "game.place_piece(x, y)\n",
    "print(game)\n",
    "print(game.check_winner())\n",
    "game.take_turn()"
   ]
  },
  {
   "cell_type": "code",
   "execution_count": 53,
   "metadata": {},
   "outputs": [
    {
     "data": {
      "text/plain": [
       "(tensor([[0.0122]], grad_fn=<TanhBackward0>),\n",
       " tensor([[0.0625, 0.0630, 0.0623, 0.0635],\n",
       "         [0.0627, 0.0610, 0.0628, 0.0637],\n",
       "         [0.0612, 0.0612, 0.0621, 0.0638],\n",
       "         [0.0634, 0.0630, 0.0615, 0.0622]], grad_fn=<ViewBackward0>))"
      ]
     },
     "execution_count": 53,
     "metadata": {},
     "output_type": "execute_result"
    }
   ],
   "source": [
    "import importlib\n",
    "import random\n",
    "import Game.Hex as hex\n",
    "importlib.reload(hex)\n",
    "import Data.preprocess_data as preprocess_data\n",
    "importlib.reload(preprocess_data)\n",
    "import Agent.Networks.CNN as cnn\n",
    "importlib.reload(cnn)\n",
    "import Agent.MCTS as mcts\n",
    "importlib.reload(mcts)\n",
    "import tests.RandomModel as random_model\n",
    "importlib.reload(random_model)\n",
    "\n",
    "game = hex.HexGame()\n",
    "board, player = game.board, game.current_player\n",
    "mask = game.get_moves()\n",
    "tensor = preprocess_data.embed_board(board, player)\n",
    "net = cnn.AlphaZeroNetwork(hex.SIZE, hex.SIZE)\n",
    "net(tensor.unsqueeze(dim=0), mask)"
   ]
  }
 ],
 "metadata": {
  "kernelspec": {
   "display_name": "WarehouseKeeper",
   "language": "python",
   "name": "python3"
  },
  "language_info": {
   "codemirror_mode": {
    "name": "ipython",
    "version": 3
   },
   "file_extension": ".py",
   "mimetype": "text/x-python",
   "name": "python",
   "nbconvert_exporter": "python",
   "pygments_lexer": "ipython3",
   "version": "3.11.8"
  }
 },
 "nbformat": 4,
 "nbformat_minor": 2
}
