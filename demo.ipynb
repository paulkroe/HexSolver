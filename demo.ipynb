{
 "cells": [
  {
   "cell_type": "code",
   "execution_count": 46,
   "metadata": {},
   "outputs": [],
   "source": [
    "import importlib\n",
    "import random\n",
    "import Game.Hex as hex\n",
    "importlib.reload(hex)\n",
    "import Data.preprocess_data as preprocess_data\n",
    "importlib.reload(preprocess_data)\n",
    "import Agent.Networks.CNN as cnn\n",
    "importlib.reload(cnn)\n",
    "import Agent.MCTS as mcts\n",
    "importlib.reload(mcts)\n",
    "\n",
    "import torch\n",
    "import torch.nn as nn\n",
    "import torch.functional as F"
   ]
  },
  {
   "cell_type": "code",
   "execution_count": 47,
   "metadata": {},
   "outputs": [
    {
     "name": "stdout",
     "output_type": "stream",
     "text": [
      "(0.15720334617131837, tensor([[0.2131, 0.3440, 0.2329, 0.2100],\n",
      "        [0.3448, 0.3349, 0.1412, 0.1791],\n",
      "        [0.2602, 0.1908, 0.3081, 0.2409],\n",
      "        [0.3137, 0.1993, 0.1478, 0.3392]]))\n"
     ]
    }
   ],
   "source": [
    "class RandModel():\n",
    "    def __init__(self):\n",
    "        self.size=hex.SIZE\n",
    "    def __call__(self, x, mask):\n",
    "        return random.random(), torch.softmax(torch.rand(self.size, self.size), dim=1)\n",
    "\n",
    "model = RandModel()\n",
    "print(model(1,2))"
   ]
  },
  {
   "cell_type": "code",
   "execution_count": 51,
   "metadata": {},
   "outputs": [
    {
     "name": "stdout",
     "output_type": "stream",
     "text": [
      "[114, 113, 139, 134]\n",
      "[120, 119, 130, 131]\n"
     ]
    }
   ],
   "source": [
    "import importlib\n",
    "import random\n",
    "import Game.Hex as hex\n",
    "importlib.reload(hex)\n",
    "import Data.preprocess_data as preprocess_data\n",
    "importlib.reload(preprocess_data)\n",
    "import Agent.Networks.CNN as cnn\n",
    "importlib.reload(cnn)\n",
    "import Agent.MCTS as mcts\n",
    "importlib.reload(mcts)\n",
    "\n",
    "import torch\n",
    "import torch.nn as nn\n",
    "xs = [0 for i in range(hex.SIZE)]\n",
    "ys = [0 for i in range(hex.SIZE)]\n",
    "\n",
    "for _ in range(500):\n",
    "    game = hex.HexGame()\n",
    "            \n",
    "    model = RandModel()\n",
    "    tree = mcts.MCTS(game, model)\n",
    "    (x, y) = tree.run(10)\n",
    "    xs[x] += 1\n",
    "    ys[y] += 1\n",
    "print(xs)\n",
    "print(ys)"
   ]
  },
  {
   "cell_type": "code",
   "execution_count": 171,
   "metadata": {},
   "outputs": [
    {
     "name": "stdout",
     "output_type": "stream",
     "text": [
      ". x o . \n",
      " . x o . \n",
      "  . x o . \n",
      "   . . . . \n",
      "\n",
      "3 0\n",
      ". x o . \n",
      " . x o . \n",
      "  . x o . \n",
      "   x . . . \n",
      "\n",
      "(0, [(0, 1), (1, 1), (2, 1), (3, 0)])\n"
     ]
    }
   ],
   "source": [
    "import importlib\n",
    "import random\n",
    "import Game.Hex as hex\n",
    "importlib.reload(hex)\n",
    "import Data.preprocess_data as preprocess_data\n",
    "importlib.reload(preprocess_data)\n",
    "import Agent.Networks.CNN as cnn\n",
    "importlib.reload(cnn)\n",
    "import Agent.MCTS as mcts\n",
    "importlib.reload(mcts)\n",
    "\n",
    "import torch\n",
    "import torch.nn as nn\n",
    "\n",
    "game = hex.HexGame()\n",
    "\n",
    "for i in range(0, hex.SIZE-1):\n",
    "    for j in range(1, 3):\n",
    "        game.place_piece(i, j)   \n",
    "        game.take_turn()    \n",
    "\n",
    "print(game) \n",
    "model = RandModel()\n",
    "tree = mcts.MCTS(game, model)\n",
    "\n",
    "(x, y) = tree.run(100)\n",
    "print(x, y)\n",
    "game.place_piece(x, y)\n",
    "print(game)\n",
    "print(game.check_winner())\n",
    "game.take_turn()"
   ]
  },
  {
   "cell_type": "code",
   "execution_count": 65,
   "metadata": {},
   "outputs": [
    {
     "ename": "TypeError",
     "evalue": "ord() expected string of length 1, but NoneType found",
     "output_type": "error",
     "traceback": [
      "\u001b[0;31m---------------------------------------------------------------------------\u001b[0m",
      "\u001b[0;31mTypeError\u001b[0m                                 Traceback (most recent call last)",
      "Cell \u001b[0;32mIn[65], line 13\u001b[0m\n\u001b[1;32m     10\u001b[0m importlib\u001b[38;5;241m.\u001b[39mreload(mcts)\n\u001b[1;32m     12\u001b[0m board \u001b[38;5;241m=\u001b[39m game\u001b[38;5;241m.\u001b[39mboard\n\u001b[0;32m---> 13\u001b[0m tensor \u001b[38;5;241m=\u001b[39m \u001b[43mpreprocess_data\u001b[49m\u001b[38;5;241;43m.\u001b[39;49m\u001b[43membed_board\u001b[49m\u001b[43m(\u001b[49m\u001b[43mboard\u001b[49m\u001b[43m,\u001b[49m\u001b[38;5;241;43m1\u001b[39;49m\u001b[43m)\u001b[49m\n\u001b[1;32m     14\u001b[0m net \u001b[38;5;241m=\u001b[39m cnn\u001b[38;5;241m.\u001b[39mCNN()\n",
      "File \u001b[0;32m~/Documents/ETH/RLforGames/Othello/Data/preprocess_data.py:5\u001b[0m, in \u001b[0;36membed_board\u001b[0;34m(board, player)\u001b[0m\n\u001b[1;32m      4\u001b[0m \u001b[38;5;28;01mdef\u001b[39;00m \u001b[38;5;21membed_board\u001b[39m(board, player):\n\u001b[0;32m----> 5\u001b[0m     board_tensor \u001b[38;5;241m=\u001b[39m torch\u001b[38;5;241m.\u001b[39mtensor(\u001b[43m[\u001b[49m\u001b[43m[\u001b[49m\u001b[38;5;28;43mord\u001b[39;49m\u001b[43m(\u001b[49m\u001b[43mcell\u001b[49m\u001b[43m)\u001b[49m\u001b[43m \u001b[49m\u001b[38;5;28;43;01mfor\u001b[39;49;00m\u001b[43m \u001b[49m\u001b[43mcell\u001b[49m\u001b[43m \u001b[49m\u001b[38;5;129;43;01min\u001b[39;49;00m\u001b[43m \u001b[49m\u001b[43mrow\u001b[49m\u001b[43m]\u001b[49m\u001b[43m \u001b[49m\u001b[38;5;28;43;01mfor\u001b[39;49;00m\u001b[43m \u001b[49m\u001b[43mrow\u001b[49m\u001b[43m \u001b[49m\u001b[38;5;129;43;01min\u001b[39;49;00m\u001b[43m \u001b[49m\u001b[43mboard\u001b[49m\u001b[43m]\u001b[49m)\n\u001b[1;32m      6\u001b[0m     \u001b[38;5;28mprint\u001b[39m(board_tensor)\n\u001b[1;32m      7\u001b[0m     X_mask \u001b[38;5;241m=\u001b[39m torch\u001b[38;5;241m.\u001b[39mzeros((\u001b[38;5;241m3\u001b[39m, \u001b[38;5;241m9\u001b[39m, \u001b[38;5;241m9\u001b[39m))\n",
      "File \u001b[0;32m~/Documents/ETH/RLforGames/Othello/Data/preprocess_data.py:5\u001b[0m, in \u001b[0;36m<listcomp>\u001b[0;34m(.0)\u001b[0m\n\u001b[1;32m      4\u001b[0m \u001b[38;5;28;01mdef\u001b[39;00m \u001b[38;5;21membed_board\u001b[39m(board, player):\n\u001b[0;32m----> 5\u001b[0m     board_tensor \u001b[38;5;241m=\u001b[39m torch\u001b[38;5;241m.\u001b[39mtensor([\u001b[43m[\u001b[49m\u001b[38;5;28;43mord\u001b[39;49m\u001b[43m(\u001b[49m\u001b[43mcell\u001b[49m\u001b[43m)\u001b[49m\u001b[43m \u001b[49m\u001b[38;5;28;43;01mfor\u001b[39;49;00m\u001b[43m \u001b[49m\u001b[43mcell\u001b[49m\u001b[43m \u001b[49m\u001b[38;5;129;43;01min\u001b[39;49;00m\u001b[43m \u001b[49m\u001b[43mrow\u001b[49m\u001b[43m]\u001b[49m \u001b[38;5;28;01mfor\u001b[39;00m row \u001b[38;5;129;01min\u001b[39;00m board])\n\u001b[1;32m      6\u001b[0m     \u001b[38;5;28mprint\u001b[39m(board_tensor)\n\u001b[1;32m      7\u001b[0m     X_mask \u001b[38;5;241m=\u001b[39m torch\u001b[38;5;241m.\u001b[39mzeros((\u001b[38;5;241m3\u001b[39m, \u001b[38;5;241m9\u001b[39m, \u001b[38;5;241m9\u001b[39m))\n",
      "File \u001b[0;32m~/Documents/ETH/RLforGames/Othello/Data/preprocess_data.py:5\u001b[0m, in \u001b[0;36m<listcomp>\u001b[0;34m(.0)\u001b[0m\n\u001b[1;32m      4\u001b[0m \u001b[38;5;28;01mdef\u001b[39;00m \u001b[38;5;21membed_board\u001b[39m(board, player):\n\u001b[0;32m----> 5\u001b[0m     board_tensor \u001b[38;5;241m=\u001b[39m torch\u001b[38;5;241m.\u001b[39mtensor([[\u001b[38;5;28;43mord\u001b[39;49m\u001b[43m(\u001b[49m\u001b[43mcell\u001b[49m\u001b[43m)\u001b[49m \u001b[38;5;28;01mfor\u001b[39;00m cell \u001b[38;5;129;01min\u001b[39;00m row] \u001b[38;5;28;01mfor\u001b[39;00m row \u001b[38;5;129;01min\u001b[39;00m board])\n\u001b[1;32m      6\u001b[0m     \u001b[38;5;28mprint\u001b[39m(board_tensor)\n\u001b[1;32m      7\u001b[0m     X_mask \u001b[38;5;241m=\u001b[39m torch\u001b[38;5;241m.\u001b[39mzeros((\u001b[38;5;241m3\u001b[39m, \u001b[38;5;241m9\u001b[39m, \u001b[38;5;241m9\u001b[39m))\n",
      "\u001b[0;31mTypeError\u001b[0m: ord() expected string of length 1, but NoneType found"
     ]
    }
   ],
   "source": [
    "import importlib\n",
    "import random\n",
    "import Game.Hex as hex\n",
    "importlib.reload(hex)\n",
    "import Data.preprocess_data as preprocess_data\n",
    "importlib.reload(preprocess_data)\n",
    "import Agent.Networks.CNN as cnn\n",
    "importlib.reload(cnn)\n",
    "import Agent.MCTS as mcts\n",
    "importlib.reload(mcts)\n",
    "\n",
    "board = game.board\n",
    "tensor = preprocess_data.embed_board(board,1)\n",
    "net = cnn.CNN()"
   ]
  }
 ],
 "metadata": {
  "kernelspec": {
   "display_name": "WarehouseKeeper",
   "language": "python",
   "name": "python3"
  },
  "language_info": {
   "codemirror_mode": {
    "name": "ipython",
    "version": 3
   },
   "file_extension": ".py",
   "mimetype": "text/x-python",
   "name": "python",
   "nbconvert_exporter": "python",
   "pygments_lexer": "ipython3",
   "version": "3.11.8"
  }
 },
 "nbformat": 4,
 "nbformat_minor": 2
}
